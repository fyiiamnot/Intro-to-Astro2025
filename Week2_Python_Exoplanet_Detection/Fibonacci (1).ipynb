{
 "cells": [
  {
   "cell_type": "code",
   "execution_count": 15,
   "id": "16faf70e-692e-4e0a-a8b2-0fd35e7f4e7d",
   "metadata": {},
   "outputs": [
    {
     "name": "stdin",
     "output_type": "stream",
     "text": [
      "Enter your limit: 7\n"
     ]
    }
   ],
   "source": [
    "# Creating and initialising variables\n",
    "limit = int(input(\"Enter your limit:\"))\n",
    "x = 0\n",
    "y = 1"
   ]
  },
  {
   "cell_type": "code",
   "execution_count": 16,
   "id": "86f115b9-d957-4908-8395-b9e4d5f63fcf",
   "metadata": {},
   "outputs": [
    {
     "name": "stdout",
     "output_type": "stream",
     "text": [
      "0\n",
      "1\n",
      "1\n",
      "2\n",
      "3\n",
      "5\n",
      "8\n"
     ]
    }
   ],
   "source": [
    "\n",
    "# Using a for loop to generate Fibonacci sequence\n",
    "for i in range(limit):\n",
    "    print(x)\n",
    "    z = x\n",
    "    x = y\n",
    "    y = x + z"
   ]
  },
  {
   "cell_type": "code",
   "execution_count": null,
   "id": "54feab7c-8a2e-4b9e-b724-6b4bf1c78e38",
   "metadata": {},
   "outputs": [],
   "source": []
  },
  {
   "cell_type": "code",
   "execution_count": null,
   "id": "dfcc68ef-b6fa-4b49-8364-cf778f74c90b",
   "metadata": {},
   "outputs": [],
   "source": []
  }
 ],
 "metadata": {
  "kernelspec": {
   "display_name": "Python 3 (ipykernel)",
   "language": "python",
   "name": "python3"
  },
  "language_info": {
   "codemirror_mode": {
    "name": "ipython",
    "version": 3
   },
   "file_extension": ".py",
   "mimetype": "text/x-python",
   "name": "python",
   "nbconvert_exporter": "python",
   "pygments_lexer": "ipython3",
   "version": "3.12.1"
  }
 },
 "nbformat": 4,
 "nbformat_minor": 5
}
